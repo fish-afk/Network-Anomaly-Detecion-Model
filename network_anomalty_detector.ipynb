{
 "cells": [
  {
   "cell_type": "code",
   "execution_count": 2,
   "id": "73b2347a-b4af-4832-847a-206479c28a6b",
   "metadata": {},
   "outputs": [],
   "source": [
    "# Import NumPy for numerical computations\n",
    "import numpy as np\n",
    "# Import pandas for data manipulation and analysis\n",
    "import pandas as pd\n",
    "# Import Random Forest classifier for classification task\n",
    "from sklearn.ensemble import RandomForestClassifier\n",
    "from sklearn.model_selection import train_test_split\n",
    "from sklearn.metrics import accuracy_score, precision_score, recall_score, f1_score, confusion_matrix, classification_report\n",
    "import seaborn as sns\n",
    "import matplotlib.pyplot as plt"
   ]
  },
  {
   "cell_type": "code",
   "execution_count": 3,
   "id": "51cbe553-a3ba-4368-878b-85983583c944",
   "metadata": {},
   "outputs": [],
   "source": [
    "# Set the file path to the NSL-KDD dataset file\n",
    "file_path = r'KDD+.txt'\n",
    "\n",
    "# Define the column names corresponding to the NSL-KDD dataset\n",
    "columns = [\n",
    "    'duration', 'protocol_type', 'service', 'flag', 'src_bytes', 'dst_bytes', \n",
    "    'land', 'wrong_fragment', 'urgent', 'hot', 'num_failed_logins', 'logged_in', \n",
    "    'num_compromised', 'root_shell', 'su_attempted', 'num_root', 'num_file_creations', \n",
    "    'num_shells', 'num_access_files', 'num_outbound_cmds', 'is_host_login', 'is_guest_login', \n",
    "    'count', 'srv_count', 'serror_rate', 'srv_serror_rate', 'rerror_rate', 'srv_rerror_rate', \n",
    "    'same_srv_rate', 'diff_srv_rate', 'srv_diff_host_rate', 'dst_host_count', 'dst_host_srv_count', \n",
    "    'dst_host_same_srv_rate', 'dst_host_diff_srv_rate', 'dst_host_same_src_port_rate', \n",
    "    'dst_host_srv_diff_host_rate', 'dst_host_serror_rate', 'dst_host_srv_serror_rate', \n",
    "    'dst_host_rerror_rate', 'dst_host_srv_rerror_rate', 'attack', 'level'\n",
    "]"
   ]
  },
  {
   "cell_type": "code",
   "execution_count": 4,
   "id": "f0d66bec-9efe-44b9-99fb-a7c5f1f501f3",
   "metadata": {},
   "outputs": [],
   "source": [
    "# Load the dataset into a pandas DataFrame for analysis\n",
    "df = pd.read_csv(file_path, names=columns)"
   ]
  },
  {
   "cell_type": "code",
   "execution_count": 5,
   "id": "e66d8cf6-30f2-49ad-ad3c-e171a4eaedcb",
   "metadata": {},
   "outputs": [
    {
     "name": "stdout",
     "output_type": "stream",
     "text": [
      "   duration protocol_type   service flag  src_bytes  dst_bytes  land  \\\n",
      "0         0           tcp  ftp_data   SF        491          0     0   \n",
      "1         0           udp     other   SF        146          0     0   \n",
      "2         0           tcp   private   S0          0          0     0   \n",
      "3         0           tcp      http   SF        232       8153     0   \n",
      "4         0           tcp      http   SF        199        420     0   \n",
      "\n",
      "   wrong_fragment  urgent  hot  ...  dst_host_same_srv_rate  \\\n",
      "0               0       0    0  ...                    0.17   \n",
      "1               0       0    0  ...                    0.00   \n",
      "2               0       0    0  ...                    0.10   \n",
      "3               0       0    0  ...                    1.00   \n",
      "4               0       0    0  ...                    1.00   \n",
      "\n",
      "   dst_host_diff_srv_rate  dst_host_same_src_port_rate  \\\n",
      "0                    0.03                         0.17   \n",
      "1                    0.60                         0.88   \n",
      "2                    0.05                         0.00   \n",
      "3                    0.00                         0.03   \n",
      "4                    0.00                         0.00   \n",
      "\n",
      "   dst_host_srv_diff_host_rate  dst_host_serror_rate  \\\n",
      "0                         0.00                  0.00   \n",
      "1                         0.00                  0.00   \n",
      "2                         0.00                  1.00   \n",
      "3                         0.04                  0.03   \n",
      "4                         0.00                  0.00   \n",
      "\n",
      "   dst_host_srv_serror_rate  dst_host_rerror_rate  dst_host_srv_rerror_rate  \\\n",
      "0                      0.00                  0.05                      0.00   \n",
      "1                      0.00                  0.00                      0.00   \n",
      "2                      1.00                  0.00                      0.00   \n",
      "3                      0.01                  0.00                      0.01   \n",
      "4                      0.00                  0.00                      0.00   \n",
      "\n",
      "    attack  level  \n",
      "0   normal     20  \n",
      "1   normal     15  \n",
      "2  neptune     19  \n",
      "3   normal     21  \n",
      "4   normal     21  \n",
      "\n",
      "[5 rows x 43 columns]\n"
     ]
    }
   ],
   "source": [
    "# Display the first few rows of the dataset to verify loading\n",
    "print(df.head())"
   ]
  },
  {
   "cell_type": "code",
   "execution_count": 6,
   "id": "b401d0bc-b4c1-44d6-be61-6de40c72a134",
   "metadata": {},
   "outputs": [],
   "source": [
    "# Create a binary label where 'normal' = 0 and any attack = 1 for supervised learning\n",
    "df['attack_flag'] = df['attack'].apply(lambda a: 0 if a == 'normal' else 1)"
   ]
  },
  {
   "cell_type": "code",
   "execution_count": 7,
   "id": "d55480d7-4137-4a1b-9dcd-a0d67bf6b662",
   "metadata": {},
   "outputs": [
    {
     "name": "stdout",
     "output_type": "stream",
     "text": [
      "   duration protocol_type   service flag  src_bytes  dst_bytes  land  \\\n",
      "0         0           tcp  ftp_data   SF        491          0     0   \n",
      "1         0           udp     other   SF        146          0     0   \n",
      "2         0           tcp   private   S0          0          0     0   \n",
      "3         0           tcp      http   SF        232       8153     0   \n",
      "4         0           tcp      http   SF        199        420     0   \n",
      "\n",
      "   wrong_fragment  urgent  hot  ...  dst_host_diff_srv_rate  \\\n",
      "0               0       0    0  ...                    0.03   \n",
      "1               0       0    0  ...                    0.60   \n",
      "2               0       0    0  ...                    0.05   \n",
      "3               0       0    0  ...                    0.00   \n",
      "4               0       0    0  ...                    0.00   \n",
      "\n",
      "   dst_host_same_src_port_rate  dst_host_srv_diff_host_rate  \\\n",
      "0                         0.17                         0.00   \n",
      "1                         0.88                         0.00   \n",
      "2                         0.00                         0.00   \n",
      "3                         0.03                         0.04   \n",
      "4                         0.00                         0.00   \n",
      "\n",
      "   dst_host_serror_rate  dst_host_srv_serror_rate  dst_host_rerror_rate  \\\n",
      "0                  0.00                      0.00                  0.05   \n",
      "1                  0.00                      0.00                  0.00   \n",
      "2                  1.00                      1.00                  0.00   \n",
      "3                  0.03                      0.01                  0.00   \n",
      "4                  0.00                      0.00                  0.00   \n",
      "\n",
      "   dst_host_srv_rerror_rate   attack  level  attack_flag  \n",
      "0                      0.00   normal     20            0  \n",
      "1                      0.00   normal     15            0  \n",
      "2                      0.00  neptune     19            1  \n",
      "3                      0.01   normal     21            0  \n",
      "4                      0.00   normal     21            0  \n",
      "\n",
      "[5 rows x 44 columns]\n"
     ]
    }
   ],
   "source": [
    "# Display the first few rows of the dataset to verify loading\n",
    "print(df.head())"
   ]
  },
  {
   "cell_type": "code",
   "execution_count": 10,
   "id": "9cd80f2d-548d-4b42-81ed-a972ef47fcaa",
   "metadata": {},
   "outputs": [],
   "source": [
    "# Multi-class classification target categories\n",
    "dos_attacks = ['apache2', 'back', 'land', 'neptune', 'mailbomb', 'pod', \n",
    "               'processtable', 'smurf', 'teardrop', 'udpstorm', 'worm']\n",
    "probe_attacks = ['ipsweep', 'mscan', 'nmap', 'portsweep', 'saint', 'satan']\n",
    "privilege_attacks = ['buffer_overflow', 'loadmdoule', 'perl', 'ps', \n",
    "                     'rootkit', 'sqlattack', 'xterm']\n",
    "access_attacks = ['ftp_write', 'guess_passwd', 'http_tunnel', 'imap', \n",
    "                  'multihop', 'named', 'phf', 'sendmail', 'snmpgetattack', \n",
    "                  'snmpguess', 'spy', 'warezclient', 'warezmaster', \n",
    "                  'xclock', 'xsnoop']\n",
    "\n",
    "def map_attack(attack):\n",
    "    if attack in dos_attacks:\n",
    "        return 1\n",
    "    elif attack in probe_attacks:\n",
    "        return 2\n",
    "    elif attack in privilege_attacks:\n",
    "        return 3\n",
    "    elif attack in access_attacks:\n",
    "        return 4\n",
    "    else:\n",
    "        return 0\n",
    "\n",
    "# Assign multi-class category to each row\n",
    "df['attack_map'] = df['attack'].apply(map_attack)"
   ]
  },
  {
   "cell_type": "code",
   "execution_count": 11,
   "id": "3247fbfe-0ea9-4e87-91f5-0ce98c9a8e07",
   "metadata": {},
   "outputs": [
    {
     "name": "stdout",
     "output_type": "stream",
     "text": [
      "   duration protocol_type   service flag  src_bytes  dst_bytes  land  \\\n",
      "0         0           tcp  ftp_data   SF        491          0     0   \n",
      "1         0           udp     other   SF        146          0     0   \n",
      "2         0           tcp   private   S0          0          0     0   \n",
      "3         0           tcp      http   SF        232       8153     0   \n",
      "4         0           tcp      http   SF        199        420     0   \n",
      "\n",
      "   wrong_fragment  urgent  hot  ...  dst_host_same_src_port_rate  \\\n",
      "0               0       0    0  ...                         0.17   \n",
      "1               0       0    0  ...                         0.88   \n",
      "2               0       0    0  ...                         0.00   \n",
      "3               0       0    0  ...                         0.03   \n",
      "4               0       0    0  ...                         0.00   \n",
      "\n",
      "   dst_host_srv_diff_host_rate  dst_host_serror_rate  \\\n",
      "0                         0.00                  0.00   \n",
      "1                         0.00                  0.00   \n",
      "2                         0.00                  1.00   \n",
      "3                         0.04                  0.03   \n",
      "4                         0.00                  0.00   \n",
      "\n",
      "   dst_host_srv_serror_rate  dst_host_rerror_rate  dst_host_srv_rerror_rate  \\\n",
      "0                      0.00                  0.05                      0.00   \n",
      "1                      0.00                  0.00                      0.00   \n",
      "2                      1.00                  0.00                      0.00   \n",
      "3                      0.01                  0.00                      0.01   \n",
      "4                      0.00                  0.00                      0.00   \n",
      "\n",
      "    attack  level  attack_flag  attack_map  \n",
      "0   normal     20            0           0  \n",
      "1   normal     15            0           0  \n",
      "2  neptune     19            1           1  \n",
      "3   normal     21            0           0  \n",
      "4   normal     21            0           0  \n",
      "\n",
      "[5 rows x 45 columns]\n"
     ]
    }
   ],
   "source": [
    "# Display the first few rows of the dataset to verify loading\n",
    "print(df.head())"
   ]
  },
  {
   "cell_type": "code",
   "execution_count": 12,
   "id": "2a3f5b7f-34bb-4a02-bb68-868c52f4f461",
   "metadata": {},
   "outputs": [],
   "source": [
    "features_to_encode = ['protocol_type', 'service']\n",
    "encoded = pd.get_dummies(df[features_to_encode])"
   ]
  },
  {
   "cell_type": "code",
   "execution_count": 13,
   "id": "943166dc-8331-461a-94f6-849b822cb555",
   "metadata": {},
   "outputs": [
    {
     "name": "stdout",
     "output_type": "stream",
     "text": [
      "        protocol_type_icmp  protocol_type_tcp  protocol_type_udp  service_IRC  \\\n",
      "0                    False               True              False        False   \n",
      "1                    False              False               True        False   \n",
      "2                    False               True              False        False   \n",
      "3                    False               True              False        False   \n",
      "4                    False               True              False        False   \n",
      "...                    ...                ...                ...          ...   \n",
      "148512               False               True              False        False   \n",
      "148513               False               True              False        False   \n",
      "148514               False               True              False        False   \n",
      "148515               False              False               True        False   \n",
      "148516               False               True              False        False   \n",
      "\n",
      "        service_X11  service_Z39_50  service_aol  service_auth  service_bgp  \\\n",
      "0             False           False        False         False        False   \n",
      "1             False           False        False         False        False   \n",
      "2             False           False        False         False        False   \n",
      "3             False           False        False         False        False   \n",
      "4             False           False        False         False        False   \n",
      "...             ...             ...          ...           ...          ...   \n",
      "148512        False           False        False         False        False   \n",
      "148513        False           False        False         False        False   \n",
      "148514        False           False        False         False        False   \n",
      "148515        False           False        False         False        False   \n",
      "148516        False           False        False         False        False   \n",
      "\n",
      "        service_courier  ...  service_telnet  service_tftp_u  service_tim_i  \\\n",
      "0                 False  ...           False           False          False   \n",
      "1                 False  ...           False           False          False   \n",
      "2                 False  ...           False           False          False   \n",
      "3                 False  ...           False           False          False   \n",
      "4                 False  ...           False           False          False   \n",
      "...                 ...  ...             ...             ...            ...   \n",
      "148512            False  ...           False           False          False   \n",
      "148513            False  ...           False           False          False   \n",
      "148514            False  ...           False           False          False   \n",
      "148515            False  ...           False           False          False   \n",
      "148516            False  ...           False           False          False   \n",
      "\n",
      "        service_time  service_urh_i  service_urp_i  service_uucp  \\\n",
      "0              False          False          False         False   \n",
      "1              False          False          False         False   \n",
      "2              False          False          False         False   \n",
      "3              False          False          False         False   \n",
      "4              False          False          False         False   \n",
      "...              ...            ...            ...           ...   \n",
      "148512         False          False          False         False   \n",
      "148513         False          False          False         False   \n",
      "148514         False          False          False         False   \n",
      "148515         False          False          False         False   \n",
      "148516         False          False          False         False   \n",
      "\n",
      "        service_uucp_path  service_vmnet  service_whois  \n",
      "0                   False          False          False  \n",
      "1                   False          False          False  \n",
      "2                   False          False          False  \n",
      "3                   False          False          False  \n",
      "4                   False          False          False  \n",
      "...                   ...            ...            ...  \n",
      "148512              False          False          False  \n",
      "148513              False          False          False  \n",
      "148514              False          False          False  \n",
      "148515              False          False          False  \n",
      "148516              False          False          False  \n",
      "\n",
      "[148517 rows x 73 columns]\n"
     ]
    }
   ],
   "source": [
    "print(encoded)"
   ]
  },
  {
   "cell_type": "code",
   "execution_count": 14,
   "id": "8503bfe4-2c3a-4bd3-9adf-553c5edd8073",
   "metadata": {},
   "outputs": [],
   "source": [
    "# Numeric features that capture various statistical properties of the traffic\n",
    "numeric_features = [\n",
    "    'duration', 'src_bytes', 'dst_bytes', 'wrong_fragment', 'urgent', 'hot', \n",
    "    'num_failed_logins', 'num_compromised', 'root_shell', 'su_attempted', \n",
    "    'num_root', 'num_file_creations', 'num_shells', 'num_access_files', \n",
    "    'num_outbound_cmds', 'count', 'srv_count', 'serror_rate', \n",
    "    'srv_serror_rate', 'rerror_rate', 'srv_rerror_rate', 'same_srv_rate', \n",
    "    'diff_srv_rate', 'srv_diff_host_rate', 'dst_host_count', 'dst_host_srv_count', \n",
    "    'dst_host_same_srv_rate', 'dst_host_diff_srv_rate', \n",
    "    'dst_host_same_src_port_rate', 'dst_host_srv_diff_host_rate', \n",
    "    'dst_host_serror_rate', 'dst_host_srv_serror_rate', 'dst_host_rerror_rate', \n",
    "    'dst_host_srv_rerror_rate'\n",
    "]"
   ]
  },
  {
   "cell_type": "code",
   "execution_count": 15,
   "id": "59d59d94-b5a5-4345-a288-fd5b56c673b3",
   "metadata": {},
   "outputs": [],
   "source": [
    "# Combine encoded categorical variables and numeric features\n",
    "train_set = encoded.join(df[numeric_features])\n",
    "\n",
    "# Multi-class target variable\n",
    "multi_y = df['attack_map']"
   ]
  },
  {
   "cell_type": "code",
   "execution_count": 16,
   "id": "77b633d7-9330-4b38-9fb9-3db11a8bfb71",
   "metadata": {},
   "outputs": [],
   "source": [
    "# Split data into training and test sets for multi-class classification\n",
    "train_X, test_X, train_y, test_y = train_test_split(train_set, multi_y, test_size=0.2, random_state=1337)"
   ]
  },
  {
   "cell_type": "code",
   "execution_count": 17,
   "id": "1a73d77a-3918-4a13-b00a-a917eb475bc2",
   "metadata": {},
   "outputs": [],
   "source": [
    "# Further split the training set into separate training and validation sets\n",
    "multi_train_X, multi_val_X, multi_train_y, multi_val_y = train_test_split(train_X, train_y, test_size=0.3, random_state=1337)"
   ]
  },
  {
   "cell_type": "code",
   "execution_count": null,
   "id": "9475756c-d805-4aeb-9a18-da8c222f7fb9",
   "metadata": {},
   "outputs": [],
   "source": []
  }
 ],
 "metadata": {
  "kernelspec": {
   "display_name": "Python 3 (ipykernel)",
   "language": "python",
   "name": "python3"
  },
  "language_info": {
   "codemirror_mode": {
    "name": "ipython",
    "version": 3
   },
   "file_extension": ".py",
   "mimetype": "text/x-python",
   "name": "python",
   "nbconvert_exporter": "python",
   "pygments_lexer": "ipython3",
   "version": "3.11.10"
  }
 },
 "nbformat": 4,
 "nbformat_minor": 5
}
